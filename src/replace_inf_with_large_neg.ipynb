{
 "cells": [
  {
   "cell_type": "code",
   "execution_count": 69,
   "metadata": {},
   "outputs": [],
   "source": [
    "import numpy as np\n",
    "import onnxruntime as ort\n",
    "import onnx\n",
    "import onnx_graphsurgeon as gs\n",
    "from pathlib import Path\n",
    "from rich import print"
   ]
  },
  {
   "cell_type": "code",
   "execution_count": 70,
   "metadata": {},
   "outputs": [],
   "source": [
    "  \n",
    "# path=Path(\"D:/Learn DL/Emil-Net/src/isolated_emil_net.onnx\")\n",
    "\n",
    "path=Path(\"D:/Learn DL/Emil-Net/artifacts/simplified_emil_net.onnx\")\n",
    "\n",
    "\n",
    "\n",
    "iso_onnx_model = onnx.load(path)\n",
    "\n",
    "\n",
    "onnx.checker.check_model(iso_onnx_model)"
   ]
  },
  {
   "cell_type": "code",
   "execution_count": 71,
   "metadata": {},
   "outputs": [],
   "source": [
    "\n",
    "session = ort.InferenceSession(iso_onnx_model.SerializeToString())\n",
    "\n",
    "graph=gs.import_onnx(iso_onnx_model)\n",
    "\n",
    "\n",
    "inputs = {}\n",
    "for input_tensor in graph.inputs:\n",
    "    shape =  input_tensor.shape\n",
    "    dtype = np.float32 \n",
    "    inputs[input_tensor.name] = np.random.rand(*shape).astype(dtype)\n",
    "\n",
    "\n",
    "output = session.run([\"trajectories\",\"scores\"], inputs)\n",
    "\n"
   ]
  },
  {
   "cell_type": "code",
   "execution_count": 72,
   "metadata": {},
   "outputs": [],
   "source": [
    "def print_tensor(name:str):\n",
    "    where=None\n",
    "    \n",
    "    for node in graph.nodes:\n",
    "        if node.name == name:\n",
    "            print(f\"Replacing Where node: {node.name}\")\n",
    "\n",
    "            condition,X, Y = node.inputs\n",
    "            print(f\"condition {condition}\")\n",
    "            print(f\"X {X}\")\n",
    "            print(f\"Y {Y}\")\n",
    "\n",
    "            output = node.outputs[0]\n",
    "            \n",
    "            where = node\n",
    "            \n",
    "            print(f\"Output: {output}\")\n",
    "            \n",
    "    return where\n",
    "        \n",
    "\n",
    "\n",
    "def replace_tensor(name :str):\n",
    "    \n",
    "    node = print_tensor(name)\n",
    "    \n",
    "    ten_pow_neg6 = gs.Constant(\n",
    "    name=node.inputs[1].name+ \"_10pow_n4\",\n",
    "    values= np.full((), 1e-4, dtype=np.float32) \n",
    ")\n",
    "\n",
    "\n",
    "    node.inputs[1]=ten_pow_neg6\n",
    "    \n",
    "    node = print_tensor(name)\n",
    "    "
   ]
  },
  {
   "cell_type": "code",
   "execution_count": 73,
   "metadata": {},
   "outputs": [
    {
     "data": {
      "text/html": [
       "<pre style=\"white-space:pre;overflow-x:auto;line-height:normal;font-family:Menlo,'DejaVu Sans Mono',consolas,'Courier New',monospace\">Node <span style=\"color: #008080; text-decoration-color: #008080; font-weight: bold\">1</span>\n",
       "</pre>\n"
      ],
      "text/plain": [
       "Node \u001b[1;36m1\u001b[0m\n"
      ]
     },
     "metadata": {},
     "output_type": "display_data"
    },
    {
     "data": {
      "text/html": [
       "<pre style=\"white-space:pre;overflow-x:auto;line-height:normal;font-family:Menlo,'DejaVu Sans Mono',consolas,'Courier New',monospace\">Replacing Where node: <span style=\"color: #800080; text-decoration-color: #800080\">/encoder_blocks.0/attn/</span><span style=\"color: #ff00ff; text-decoration-color: #ff00ff\">Where</span>\n",
       "</pre>\n"
      ],
      "text/plain": [
       "Replacing Where node: \u001b[35m/encoder_blocks.0/attn/\u001b[0m\u001b[95mWhere\u001b[0m\n"
      ]
     },
     "metadata": {},
     "output_type": "display_data"
    },
    {
     "data": {
      "text/html": [
       "<pre style=\"white-space:pre;overflow-x:auto;line-height:normal;font-family:Menlo,'DejaVu Sans Mono',consolas,'Courier New',monospace\">condition Variable <span style=\"font-weight: bold\">(</span><span style=\"color: #800080; text-decoration-color: #800080\">/</span><span style=\"color: #ff00ff; text-decoration-color: #ff00ff\">Cast_19_output_0</span><span style=\"font-weight: bold\">)</span>: <span style=\"font-weight: bold\">(</span><span style=\"color: #808000; text-decoration-color: #808000\">shape</span>=<span style=\"font-weight: bold\">[</span><span style=\"color: #008080; text-decoration-color: #008080; font-weight: bold\">1</span>, <span style=\"color: #008080; text-decoration-color: #008080; font-weight: bold\">9</span><span style=\"font-weight: bold\">]</span>, <span style=\"color: #808000; text-decoration-color: #808000\">dtype</span>=<span style=\"color: #800080; text-decoration-color: #800080\">bool</span><span style=\"font-weight: bold\">)</span>\n",
       "</pre>\n"
      ],
      "text/plain": [
       "condition Variable \u001b[1m(\u001b[0m\u001b[35m/\u001b[0m\u001b[95mCast_19_output_0\u001b[0m\u001b[1m)\u001b[0m: \u001b[1m(\u001b[0m\u001b[33mshape\u001b[0m=\u001b[1m[\u001b[0m\u001b[1;36m1\u001b[0m, \u001b[1;36m9\u001b[0m\u001b[1m]\u001b[0m, \u001b[33mdtype\u001b[0m=\u001b[35mbool\u001b[0m\u001b[1m)\u001b[0m\n"
      ]
     },
     "metadata": {},
     "output_type": "display_data"
    },
    {
     "data": {
      "text/html": [
       "<pre style=\"white-space:pre;overflow-x:auto;line-height:normal;font-family:Menlo,'DejaVu Sans Mono',consolas,'Courier New',monospace\">X Constant <span style=\"font-weight: bold\">(</span><span style=\"color: #800080; text-decoration-color: #800080\">/encoder_blocks.0/attn/</span><span style=\"color: #ff00ff; text-decoration-color: #ff00ff\">Constant_output_0</span><span style=\"font-weight: bold\">)</span>: <span style=\"font-weight: bold\">(</span><span style=\"color: #808000; text-decoration-color: #808000\">shape</span>=<span style=\"font-weight: bold\">[]</span>, <span style=\"color: #808000; text-decoration-color: #808000\">dtype</span>=<span style=\"color: #800080; text-decoration-color: #800080\">float32</span><span style=\"font-weight: bold\">)</span>\n",
       "</pre>\n"
      ],
      "text/plain": [
       "X Constant \u001b[1m(\u001b[0m\u001b[35m/encoder_blocks.0/attn/\u001b[0m\u001b[95mConstant_output_0\u001b[0m\u001b[1m)\u001b[0m: \u001b[1m(\u001b[0m\u001b[33mshape\u001b[0m=\u001b[1m[\u001b[0m\u001b[1m]\u001b[0m, \u001b[33mdtype\u001b[0m=\u001b[35mfloat32\u001b[0m\u001b[1m)\u001b[0m\n"
      ]
     },
     "metadata": {},
     "output_type": "display_data"
    },
    {
     "data": {
      "text/html": [
       "<pre style=\"white-space:pre;overflow-x:auto;line-height:normal;font-family:Menlo,'DejaVu Sans Mono',consolas,'Courier New',monospace\">Y Constant <span style=\"font-weight: bold\">(</span><span style=\"color: #800080; text-decoration-color: #800080\">/encoder_blocks.0/attn/</span><span style=\"color: #ff00ff; text-decoration-color: #ff00ff\">Constant_1_output_0</span><span style=\"font-weight: bold\">)</span>: <span style=\"font-weight: bold\">(</span><span style=\"color: #808000; text-decoration-color: #808000\">shape</span>=<span style=\"font-weight: bold\">[</span><span style=\"color: #008080; text-decoration-color: #008080; font-weight: bold\">1</span>, <span style=\"color: #008080; text-decoration-color: #008080; font-weight: bold\">9</span><span style=\"font-weight: bold\">]</span>, <span style=\"color: #808000; text-decoration-color: #808000\">dtype</span>=<span style=\"color: #800080; text-decoration-color: #800080\">float32</span><span style=\"font-weight: bold\">)</span>\n",
       "</pre>\n"
      ],
      "text/plain": [
       "Y Constant \u001b[1m(\u001b[0m\u001b[35m/encoder_blocks.0/attn/\u001b[0m\u001b[95mConstant_1_output_0\u001b[0m\u001b[1m)\u001b[0m: \u001b[1m(\u001b[0m\u001b[33mshape\u001b[0m=\u001b[1m[\u001b[0m\u001b[1;36m1\u001b[0m, \u001b[1;36m9\u001b[0m\u001b[1m]\u001b[0m, \u001b[33mdtype\u001b[0m=\u001b[35mfloat32\u001b[0m\u001b[1m)\u001b[0m\n"
      ]
     },
     "metadata": {},
     "output_type": "display_data"
    },
    {
     "data": {
      "text/html": [
       "<pre style=\"white-space:pre;overflow-x:auto;line-height:normal;font-family:Menlo,'DejaVu Sans Mono',consolas,'Courier New',monospace\">Output: Variable <span style=\"font-weight: bold\">(</span><span style=\"color: #800080; text-decoration-color: #800080\">/encoder_blocks.0/attn/</span><span style=\"color: #ff00ff; text-decoration-color: #ff00ff\">Where_output_0</span><span style=\"font-weight: bold\">)</span>: <span style=\"font-weight: bold\">(</span><span style=\"color: #808000; text-decoration-color: #808000\">shape</span>=<span style=\"font-weight: bold\">[</span><span style=\"color: #008080; text-decoration-color: #008080; font-weight: bold\">1</span>, <span style=\"color: #008080; text-decoration-color: #008080; font-weight: bold\">9</span><span style=\"font-weight: bold\">]</span>, <span style=\"color: #808000; text-decoration-color: #808000\">dtype</span>=<span style=\"color: #800080; text-decoration-color: #800080\">float32</span><span style=\"font-weight: bold\">)</span>\n",
       "</pre>\n"
      ],
      "text/plain": [
       "Output: Variable \u001b[1m(\u001b[0m\u001b[35m/encoder_blocks.0/attn/\u001b[0m\u001b[95mWhere_output_0\u001b[0m\u001b[1m)\u001b[0m: \u001b[1m(\u001b[0m\u001b[33mshape\u001b[0m=\u001b[1m[\u001b[0m\u001b[1;36m1\u001b[0m, \u001b[1;36m9\u001b[0m\u001b[1m]\u001b[0m, \u001b[33mdtype\u001b[0m=\u001b[35mfloat32\u001b[0m\u001b[1m)\u001b[0m\n"
      ]
     },
     "metadata": {},
     "output_type": "display_data"
    },
    {
     "data": {
      "text/html": [
       "<pre style=\"white-space:pre;overflow-x:auto;line-height:normal;font-family:Menlo,'DejaVu Sans Mono',consolas,'Courier New',monospace\">Replacing Where node: <span style=\"color: #800080; text-decoration-color: #800080\">/encoder_blocks.0/attn/</span><span style=\"color: #ff00ff; text-decoration-color: #ff00ff\">Where</span>\n",
       "</pre>\n"
      ],
      "text/plain": [
       "Replacing Where node: \u001b[35m/encoder_blocks.0/attn/\u001b[0m\u001b[95mWhere\u001b[0m\n"
      ]
     },
     "metadata": {},
     "output_type": "display_data"
    },
    {
     "data": {
      "text/html": [
       "<pre style=\"white-space:pre;overflow-x:auto;line-height:normal;font-family:Menlo,'DejaVu Sans Mono',consolas,'Courier New',monospace\">condition Variable <span style=\"font-weight: bold\">(</span><span style=\"color: #800080; text-decoration-color: #800080\">/</span><span style=\"color: #ff00ff; text-decoration-color: #ff00ff\">Cast_19_output_0</span><span style=\"font-weight: bold\">)</span>: <span style=\"font-weight: bold\">(</span><span style=\"color: #808000; text-decoration-color: #808000\">shape</span>=<span style=\"font-weight: bold\">[</span><span style=\"color: #008080; text-decoration-color: #008080; font-weight: bold\">1</span>, <span style=\"color: #008080; text-decoration-color: #008080; font-weight: bold\">9</span><span style=\"font-weight: bold\">]</span>, <span style=\"color: #808000; text-decoration-color: #808000\">dtype</span>=<span style=\"color: #800080; text-decoration-color: #800080\">bool</span><span style=\"font-weight: bold\">)</span>\n",
       "</pre>\n"
      ],
      "text/plain": [
       "condition Variable \u001b[1m(\u001b[0m\u001b[35m/\u001b[0m\u001b[95mCast_19_output_0\u001b[0m\u001b[1m)\u001b[0m: \u001b[1m(\u001b[0m\u001b[33mshape\u001b[0m=\u001b[1m[\u001b[0m\u001b[1;36m1\u001b[0m, \u001b[1;36m9\u001b[0m\u001b[1m]\u001b[0m, \u001b[33mdtype\u001b[0m=\u001b[35mbool\u001b[0m\u001b[1m)\u001b[0m\n"
      ]
     },
     "metadata": {},
     "output_type": "display_data"
    },
    {
     "data": {
      "text/html": [
       "<pre style=\"white-space:pre;overflow-x:auto;line-height:normal;font-family:Menlo,'DejaVu Sans Mono',consolas,'Courier New',monospace\">X Constant <span style=\"font-weight: bold\">(</span><span style=\"color: #800080; text-decoration-color: #800080\">/encoder_blocks.0/attn/</span><span style=\"color: #ff00ff; text-decoration-color: #ff00ff\">Constant_output_0_10pow_n4</span><span style=\"font-weight: bold\">)</span>: <span style=\"font-weight: bold\">(</span><span style=\"color: #808000; text-decoration-color: #808000\">shape</span>=<span style=\"font-weight: bold\">()</span>, <span style=\"color: #808000; text-decoration-color: #808000\">dtype</span>=<span style=\"color: #800080; text-decoration-color: #800080\">float32</span><span style=\"font-weight: bold\">)</span>\n",
       "</pre>\n"
      ],
      "text/plain": [
       "X Constant \u001b[1m(\u001b[0m\u001b[35m/encoder_blocks.0/attn/\u001b[0m\u001b[95mConstant_output_0_10pow_n4\u001b[0m\u001b[1m)\u001b[0m: \u001b[1m(\u001b[0m\u001b[33mshape\u001b[0m=\u001b[1m(\u001b[0m\u001b[1m)\u001b[0m, \u001b[33mdtype\u001b[0m=\u001b[35mfloat32\u001b[0m\u001b[1m)\u001b[0m\n"
      ]
     },
     "metadata": {},
     "output_type": "display_data"
    },
    {
     "data": {
      "text/html": [
       "<pre style=\"white-space:pre;overflow-x:auto;line-height:normal;font-family:Menlo,'DejaVu Sans Mono',consolas,'Courier New',monospace\">Y Constant <span style=\"font-weight: bold\">(</span><span style=\"color: #800080; text-decoration-color: #800080\">/encoder_blocks.0/attn/</span><span style=\"color: #ff00ff; text-decoration-color: #ff00ff\">Constant_1_output_0</span><span style=\"font-weight: bold\">)</span>: <span style=\"font-weight: bold\">(</span><span style=\"color: #808000; text-decoration-color: #808000\">shape</span>=<span style=\"font-weight: bold\">[</span><span style=\"color: #008080; text-decoration-color: #008080; font-weight: bold\">1</span>, <span style=\"color: #008080; text-decoration-color: #008080; font-weight: bold\">9</span><span style=\"font-weight: bold\">]</span>, <span style=\"color: #808000; text-decoration-color: #808000\">dtype</span>=<span style=\"color: #800080; text-decoration-color: #800080\">float32</span><span style=\"font-weight: bold\">)</span>\n",
       "</pre>\n"
      ],
      "text/plain": [
       "Y Constant \u001b[1m(\u001b[0m\u001b[35m/encoder_blocks.0/attn/\u001b[0m\u001b[95mConstant_1_output_0\u001b[0m\u001b[1m)\u001b[0m: \u001b[1m(\u001b[0m\u001b[33mshape\u001b[0m=\u001b[1m[\u001b[0m\u001b[1;36m1\u001b[0m, \u001b[1;36m9\u001b[0m\u001b[1m]\u001b[0m, \u001b[33mdtype\u001b[0m=\u001b[35mfloat32\u001b[0m\u001b[1m)\u001b[0m\n"
      ]
     },
     "metadata": {},
     "output_type": "display_data"
    },
    {
     "data": {
      "text/html": [
       "<pre style=\"white-space:pre;overflow-x:auto;line-height:normal;font-family:Menlo,'DejaVu Sans Mono',consolas,'Courier New',monospace\">Output: Variable <span style=\"font-weight: bold\">(</span><span style=\"color: #800080; text-decoration-color: #800080\">/encoder_blocks.0/attn/</span><span style=\"color: #ff00ff; text-decoration-color: #ff00ff\">Where_output_0</span><span style=\"font-weight: bold\">)</span>: <span style=\"font-weight: bold\">(</span><span style=\"color: #808000; text-decoration-color: #808000\">shape</span>=<span style=\"font-weight: bold\">[</span><span style=\"color: #008080; text-decoration-color: #008080; font-weight: bold\">1</span>, <span style=\"color: #008080; text-decoration-color: #008080; font-weight: bold\">9</span><span style=\"font-weight: bold\">]</span>, <span style=\"color: #808000; text-decoration-color: #808000\">dtype</span>=<span style=\"color: #800080; text-decoration-color: #800080\">float32</span><span style=\"font-weight: bold\">)</span>\n",
       "</pre>\n"
      ],
      "text/plain": [
       "Output: Variable \u001b[1m(\u001b[0m\u001b[35m/encoder_blocks.0/attn/\u001b[0m\u001b[95mWhere_output_0\u001b[0m\u001b[1m)\u001b[0m: \u001b[1m(\u001b[0m\u001b[33mshape\u001b[0m=\u001b[1m[\u001b[0m\u001b[1;36m1\u001b[0m, \u001b[1;36m9\u001b[0m\u001b[1m]\u001b[0m, \u001b[33mdtype\u001b[0m=\u001b[35mfloat32\u001b[0m\u001b[1m)\u001b[0m\n"
      ]
     },
     "metadata": {},
     "output_type": "display_data"
    },
    {
     "data": {
      "text/html": [
       "<pre style=\"white-space:pre;overflow-x:auto;line-height:normal;font-family:Menlo,'DejaVu Sans Mono',consolas,'Courier New',monospace\">Node <span style=\"color: #008080; text-decoration-color: #008080; font-weight: bold\">2</span>\n",
       "</pre>\n"
      ],
      "text/plain": [
       "Node \u001b[1;36m2\u001b[0m\n"
      ]
     },
     "metadata": {},
     "output_type": "display_data"
    },
    {
     "data": {
      "text/html": [
       "<pre style=\"white-space:pre;overflow-x:auto;line-height:normal;font-family:Menlo,'DejaVu Sans Mono',consolas,'Courier New',monospace\">Replacing Where node: <span style=\"color: #800080; text-decoration-color: #800080\">/planning_decoder/decoder_blocks.0/r2r_attn/</span><span style=\"color: #ff00ff; text-decoration-color: #ff00ff\">Where</span>\n",
       "</pre>\n"
      ],
      "text/plain": [
       "Replacing Where node: \u001b[35m/planning_decoder/decoder_blocks.0/r2r_attn/\u001b[0m\u001b[95mWhere\u001b[0m\n"
      ]
     },
     "metadata": {},
     "output_type": "display_data"
    },
    {
     "data": {
      "text/html": [
       "<pre style=\"white-space:pre;overflow-x:auto;line-height:normal;font-family:Menlo,'DejaVu Sans Mono',consolas,'Courier New',monospace\">condition Variable <span style=\"font-weight: bold\">(</span><span style=\"color: #800080; text-decoration-color: #800080\">/planning_decoder/decoder_blocks.0/</span><span style=\"color: #ff00ff; text-decoration-color: #ff00ff\">Cast_1_output_0</span><span style=\"font-weight: bold\">)</span>: <span style=\"font-weight: bold\">(</span><span style=\"color: #808000; text-decoration-color: #808000\">shape</span>=<span style=\"font-weight: bold\">[</span><span style=\"color: #008080; text-decoration-color: #008080; font-weight: bold\">6</span>, <span style=\"color: #008080; text-decoration-color: #008080; font-weight: bold\">1</span><span style=\"font-weight: bold\">]</span>, <span style=\"color: #808000; text-decoration-color: #808000\">dtype</span>=<span style=\"color: #800080; text-decoration-color: #800080\">bool</span><span style=\"font-weight: bold\">)</span>\n",
       "</pre>\n"
      ],
      "text/plain": [
       "condition Variable \u001b[1m(\u001b[0m\u001b[35m/planning_decoder/decoder_blocks.0/\u001b[0m\u001b[95mCast_1_output_0\u001b[0m\u001b[1m)\u001b[0m: \u001b[1m(\u001b[0m\u001b[33mshape\u001b[0m=\u001b[1m[\u001b[0m\u001b[1;36m6\u001b[0m, \u001b[1;36m1\u001b[0m\u001b[1m]\u001b[0m, \u001b[33mdtype\u001b[0m=\u001b[35mbool\u001b[0m\u001b[1m)\u001b[0m\n"
      ]
     },
     "metadata": {},
     "output_type": "display_data"
    },
    {
     "data": {
      "text/html": [
       "<pre style=\"white-space:pre;overflow-x:auto;line-height:normal;font-family:Menlo,'DejaVu Sans Mono',consolas,'Courier New',monospace\">X Constant <span style=\"font-weight: bold\">(</span><span style=\"color: #800080; text-decoration-color: #800080\">/encoder_blocks.0/attn/</span><span style=\"color: #ff00ff; text-decoration-color: #ff00ff\">Constant_output_0</span><span style=\"font-weight: bold\">)</span>: <span style=\"font-weight: bold\">(</span><span style=\"color: #808000; text-decoration-color: #808000\">shape</span>=<span style=\"font-weight: bold\">[]</span>, <span style=\"color: #808000; text-decoration-color: #808000\">dtype</span>=<span style=\"color: #800080; text-decoration-color: #800080\">float32</span><span style=\"font-weight: bold\">)</span>\n",
       "</pre>\n"
      ],
      "text/plain": [
       "X Constant \u001b[1m(\u001b[0m\u001b[35m/encoder_blocks.0/attn/\u001b[0m\u001b[95mConstant_output_0\u001b[0m\u001b[1m)\u001b[0m: \u001b[1m(\u001b[0m\u001b[33mshape\u001b[0m=\u001b[1m[\u001b[0m\u001b[1m]\u001b[0m, \u001b[33mdtype\u001b[0m=\u001b[35mfloat32\u001b[0m\u001b[1m)\u001b[0m\n"
      ]
     },
     "metadata": {},
     "output_type": "display_data"
    },
    {
     "data": {
      "text/html": [
       "<pre style=\"white-space:pre;overflow-x:auto;line-height:normal;font-family:Menlo,'DejaVu Sans Mono',consolas,'Courier New',monospace\">Y Constant <span style=\"font-weight: bold\">(</span><span style=\"color: #800080; text-decoration-color: #800080\">/planning_decoder/decoder_blocks.0/r2r_attn/</span><span style=\"color: #ff00ff; text-decoration-color: #ff00ff\">Constant_1_output_0</span><span style=\"font-weight: bold\">)</span>: <span style=\"font-weight: bold\">(</span><span style=\"color: #808000; text-decoration-color: #808000\">shape</span>=<span style=\"font-weight: bold\">[</span><span style=\"color: #008080; text-decoration-color: #008080; font-weight: bold\">6</span>, <span style=\"color: #008080; text-decoration-color: #008080; font-weight: bold\">1</span><span style=\"font-weight: bold\">]</span>, <span style=\"color: #808000; text-decoration-color: #808000\">dtype</span>=<span style=\"color: #800080; text-decoration-color: #800080\">float32</span><span style=\"font-weight: bold\">)</span>\n",
       "</pre>\n"
      ],
      "text/plain": [
       "Y Constant \u001b[1m(\u001b[0m\u001b[35m/planning_decoder/decoder_blocks.0/r2r_attn/\u001b[0m\u001b[95mConstant_1_output_0\u001b[0m\u001b[1m)\u001b[0m: \u001b[1m(\u001b[0m\u001b[33mshape\u001b[0m=\u001b[1m[\u001b[0m\u001b[1;36m6\u001b[0m, \u001b[1;36m1\u001b[0m\u001b[1m]\u001b[0m, \u001b[33mdtype\u001b[0m=\u001b[35mfloat32\u001b[0m\u001b[1m)\u001b[0m\n"
      ]
     },
     "metadata": {},
     "output_type": "display_data"
    },
    {
     "data": {
      "text/html": [
       "<pre style=\"white-space:pre;overflow-x:auto;line-height:normal;font-family:Menlo,'DejaVu Sans Mono',consolas,'Courier New',monospace\">Output: Variable <span style=\"font-weight: bold\">(</span><span style=\"color: #800080; text-decoration-color: #800080\">/planning_decoder/decoder_blocks.0/r2r_attn/</span><span style=\"color: #ff00ff; text-decoration-color: #ff00ff\">Where_output_0</span><span style=\"font-weight: bold\">)</span>: <span style=\"font-weight: bold\">(</span><span style=\"color: #808000; text-decoration-color: #808000\">shape</span>=<span style=\"font-weight: bold\">[</span><span style=\"color: #008080; text-decoration-color: #008080; font-weight: bold\">6</span>, <span style=\"color: #008080; text-decoration-color: #008080; font-weight: bold\">1</span><span style=\"font-weight: bold\">]</span>, <span style=\"color: #808000; text-decoration-color: #808000\">dtype</span>=<span style=\"color: #800080; text-decoration-color: #800080\">float32</span><span style=\"font-weight: bold\">)</span>\n",
       "</pre>\n"
      ],
      "text/plain": [
       "Output: Variable \u001b[1m(\u001b[0m\u001b[35m/planning_decoder/decoder_blocks.0/r2r_attn/\u001b[0m\u001b[95mWhere_output_0\u001b[0m\u001b[1m)\u001b[0m: \u001b[1m(\u001b[0m\u001b[33mshape\u001b[0m=\u001b[1m[\u001b[0m\u001b[1;36m6\u001b[0m, \u001b[1;36m1\u001b[0m\u001b[1m]\u001b[0m, \u001b[33mdtype\u001b[0m=\u001b[35mfloat32\u001b[0m\u001b[1m)\u001b[0m\n"
      ]
     },
     "metadata": {},
     "output_type": "display_data"
    },
    {
     "data": {
      "text/html": [
       "<pre style=\"white-space:pre;overflow-x:auto;line-height:normal;font-family:Menlo,'DejaVu Sans Mono',consolas,'Courier New',monospace\">Replacing Where node: <span style=\"color: #800080; text-decoration-color: #800080\">/planning_decoder/decoder_blocks.0/r2r_attn/</span><span style=\"color: #ff00ff; text-decoration-color: #ff00ff\">Where</span>\n",
       "</pre>\n"
      ],
      "text/plain": [
       "Replacing Where node: \u001b[35m/planning_decoder/decoder_blocks.0/r2r_attn/\u001b[0m\u001b[95mWhere\u001b[0m\n"
      ]
     },
     "metadata": {},
     "output_type": "display_data"
    },
    {
     "data": {
      "text/html": [
       "<pre style=\"white-space:pre;overflow-x:auto;line-height:normal;font-family:Menlo,'DejaVu Sans Mono',consolas,'Courier New',monospace\">condition Variable <span style=\"font-weight: bold\">(</span><span style=\"color: #800080; text-decoration-color: #800080\">/planning_decoder/decoder_blocks.0/</span><span style=\"color: #ff00ff; text-decoration-color: #ff00ff\">Cast_1_output_0</span><span style=\"font-weight: bold\">)</span>: <span style=\"font-weight: bold\">(</span><span style=\"color: #808000; text-decoration-color: #808000\">shape</span>=<span style=\"font-weight: bold\">[</span><span style=\"color: #008080; text-decoration-color: #008080; font-weight: bold\">6</span>, <span style=\"color: #008080; text-decoration-color: #008080; font-weight: bold\">1</span><span style=\"font-weight: bold\">]</span>, <span style=\"color: #808000; text-decoration-color: #808000\">dtype</span>=<span style=\"color: #800080; text-decoration-color: #800080\">bool</span><span style=\"font-weight: bold\">)</span>\n",
       "</pre>\n"
      ],
      "text/plain": [
       "condition Variable \u001b[1m(\u001b[0m\u001b[35m/planning_decoder/decoder_blocks.0/\u001b[0m\u001b[95mCast_1_output_0\u001b[0m\u001b[1m)\u001b[0m: \u001b[1m(\u001b[0m\u001b[33mshape\u001b[0m=\u001b[1m[\u001b[0m\u001b[1;36m6\u001b[0m, \u001b[1;36m1\u001b[0m\u001b[1m]\u001b[0m, \u001b[33mdtype\u001b[0m=\u001b[35mbool\u001b[0m\u001b[1m)\u001b[0m\n"
      ]
     },
     "metadata": {},
     "output_type": "display_data"
    },
    {
     "data": {
      "text/html": [
       "<pre style=\"white-space:pre;overflow-x:auto;line-height:normal;font-family:Menlo,'DejaVu Sans Mono',consolas,'Courier New',monospace\">X Constant <span style=\"font-weight: bold\">(</span><span style=\"color: #800080; text-decoration-color: #800080\">/encoder_blocks.0/attn/</span><span style=\"color: #ff00ff; text-decoration-color: #ff00ff\">Constant_output_0_10pow_n4</span><span style=\"font-weight: bold\">)</span>: <span style=\"font-weight: bold\">(</span><span style=\"color: #808000; text-decoration-color: #808000\">shape</span>=<span style=\"font-weight: bold\">()</span>, <span style=\"color: #808000; text-decoration-color: #808000\">dtype</span>=<span style=\"color: #800080; text-decoration-color: #800080\">float32</span><span style=\"font-weight: bold\">)</span>\n",
       "</pre>\n"
      ],
      "text/plain": [
       "X Constant \u001b[1m(\u001b[0m\u001b[35m/encoder_blocks.0/attn/\u001b[0m\u001b[95mConstant_output_0_10pow_n4\u001b[0m\u001b[1m)\u001b[0m: \u001b[1m(\u001b[0m\u001b[33mshape\u001b[0m=\u001b[1m(\u001b[0m\u001b[1m)\u001b[0m, \u001b[33mdtype\u001b[0m=\u001b[35mfloat32\u001b[0m\u001b[1m)\u001b[0m\n"
      ]
     },
     "metadata": {},
     "output_type": "display_data"
    },
    {
     "data": {
      "text/html": [
       "<pre style=\"white-space:pre;overflow-x:auto;line-height:normal;font-family:Menlo,'DejaVu Sans Mono',consolas,'Courier New',monospace\">Y Constant <span style=\"font-weight: bold\">(</span><span style=\"color: #800080; text-decoration-color: #800080\">/planning_decoder/decoder_blocks.0/r2r_attn/</span><span style=\"color: #ff00ff; text-decoration-color: #ff00ff\">Constant_1_output_0</span><span style=\"font-weight: bold\">)</span>: <span style=\"font-weight: bold\">(</span><span style=\"color: #808000; text-decoration-color: #808000\">shape</span>=<span style=\"font-weight: bold\">[</span><span style=\"color: #008080; text-decoration-color: #008080; font-weight: bold\">6</span>, <span style=\"color: #008080; text-decoration-color: #008080; font-weight: bold\">1</span><span style=\"font-weight: bold\">]</span>, <span style=\"color: #808000; text-decoration-color: #808000\">dtype</span>=<span style=\"color: #800080; text-decoration-color: #800080\">float32</span><span style=\"font-weight: bold\">)</span>\n",
       "</pre>\n"
      ],
      "text/plain": [
       "Y Constant \u001b[1m(\u001b[0m\u001b[35m/planning_decoder/decoder_blocks.0/r2r_attn/\u001b[0m\u001b[95mConstant_1_output_0\u001b[0m\u001b[1m)\u001b[0m: \u001b[1m(\u001b[0m\u001b[33mshape\u001b[0m=\u001b[1m[\u001b[0m\u001b[1;36m6\u001b[0m, \u001b[1;36m1\u001b[0m\u001b[1m]\u001b[0m, \u001b[33mdtype\u001b[0m=\u001b[35mfloat32\u001b[0m\u001b[1m)\u001b[0m\n"
      ]
     },
     "metadata": {},
     "output_type": "display_data"
    },
    {
     "data": {
      "text/html": [
       "<pre style=\"white-space:pre;overflow-x:auto;line-height:normal;font-family:Menlo,'DejaVu Sans Mono',consolas,'Courier New',monospace\">Output: Variable <span style=\"font-weight: bold\">(</span><span style=\"color: #800080; text-decoration-color: #800080\">/planning_decoder/decoder_blocks.0/r2r_attn/</span><span style=\"color: #ff00ff; text-decoration-color: #ff00ff\">Where_output_0</span><span style=\"font-weight: bold\">)</span>: <span style=\"font-weight: bold\">(</span><span style=\"color: #808000; text-decoration-color: #808000\">shape</span>=<span style=\"font-weight: bold\">[</span><span style=\"color: #008080; text-decoration-color: #008080; font-weight: bold\">6</span>, <span style=\"color: #008080; text-decoration-color: #008080; font-weight: bold\">1</span><span style=\"font-weight: bold\">]</span>, <span style=\"color: #808000; text-decoration-color: #808000\">dtype</span>=<span style=\"color: #800080; text-decoration-color: #800080\">float32</span><span style=\"font-weight: bold\">)</span>\n",
       "</pre>\n"
      ],
      "text/plain": [
       "Output: Variable \u001b[1m(\u001b[0m\u001b[35m/planning_decoder/decoder_blocks.0/r2r_attn/\u001b[0m\u001b[95mWhere_output_0\u001b[0m\u001b[1m)\u001b[0m: \u001b[1m(\u001b[0m\u001b[33mshape\u001b[0m=\u001b[1m[\u001b[0m\u001b[1;36m6\u001b[0m, \u001b[1;36m1\u001b[0m\u001b[1m]\u001b[0m, \u001b[33mdtype\u001b[0m=\u001b[35mfloat32\u001b[0m\u001b[1m)\u001b[0m\n"
      ]
     },
     "metadata": {},
     "output_type": "display_data"
    }
   ],
   "source": [
    "print(\"Node 1\")\n",
    "\n",
    "replace_tensor(\"/encoder_blocks.0/attn/Where\")\n",
    "\n",
    "\n",
    "print(\"Node 2\")\n",
    "\n",
    "replace_tensor(\"/planning_decoder/decoder_blocks.0/r2r_attn/Where\")"
   ]
  },
  {
   "cell_type": "code",
   "execution_count": 74,
   "metadata": {},
   "outputs": [
    {
     "name": "stdout",
     "output_type": "stream",
     "text": [
      "['\\x1b[38;5;11m'][W] Found distinct tensors that share the same name:\n",
      "[id: 2637598115280] Constant (/encoder_blocks.0/attn/Constant_output_0_10pow_n4): (shape=(), dtype=float32)\n",
      "[id: 2637703798224] Constant (/encoder_blocks.0/attn/Constant_output_0_10pow_n4): (shape=(), dtype=float32)\n",
      "Note: Producer node(s) of first tensor:\n",
      "[]\n",
      "Producer node(s) of second tensor:\n",
      "[]\u001b[0m\n"
     ]
    },
    {
     "data": {
      "text/html": [
       "<pre style=\"white-space:pre;overflow-x:auto;line-height:normal;font-family:Menlo,'DejaVu Sans Mono',consolas,'Courier New',monospace\">Where node replaced and model saved as D:\\Learn DL\\Emil-Net\\artifacts\\10pow4_model.onnx\n",
       "</pre>\n"
      ],
      "text/plain": [
       "Where node replaced and model saved as D:\\Learn DL\\Emil-Net\\artifacts\\10pow4_model.onnx\n"
      ]
     },
     "metadata": {},
     "output_type": "display_data"
    }
   ],
   "source": [
    "output_path=r\"D:\\Learn DL\\Emil-Net\\artifacts\\10pow4_model.onnx\"\n",
    "# Save modified model\n",
    "onnx.save(gs.export_onnx(graph), output_path)\n",
    "print(f\"Where node replaced and model saved as {output_path}\")\n"
   ]
  }
 ],
 "metadata": {
  "kernelspec": {
   "display_name": "mlenv",
   "language": "python",
   "name": "python3"
  },
  "language_info": {
   "codemirror_mode": {
    "name": "ipython",
    "version": 3
   },
   "file_extension": ".py",
   "mimetype": "text/x-python",
   "name": "python",
   "nbconvert_exporter": "python",
   "pygments_lexer": "ipython3",
   "version": "3.13.1"
  }
 },
 "nbformat": 4,
 "nbformat_minor": 2
}
