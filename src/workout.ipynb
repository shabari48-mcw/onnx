{
 "cells": [
  {
   "cell_type": "code",
   "execution_count": 34,
   "metadata": {},
   "outputs": [],
   "source": [
    "import numpy as np\n",
    "import onnxruntime as ort\n",
    "import onnx\n",
    "import onnx_graphsurgeon as gs\n",
    "from pathlib import Path\n",
    "from rich import print"
   ]
  },
  {
   "cell_type": "code",
   "execution_count": 49,
   "metadata": {},
   "outputs": [
    {
     "data": {
      "text/html": [
       "<pre style=\"white-space:pre;overflow-x:auto;line-height:normal;font-family:Menlo,'DejaVu Sans Mono',consolas,'Courier New',monospace\"><span style=\"font-weight: bold\">[[[</span><span style=\"color: #008080; text-decoration-color: #008080; font-weight: bold\">0.52143</span>    <span style=\"color: #008080; text-decoration-color: #008080; font-weight: bold\">0.6754695</span>  <span style=\"color: #008080; text-decoration-color: #008080; font-weight: bold\">0.41964117</span> <span style=\"color: #008080; text-decoration-color: #008080; font-weight: bold\">0.9578651</span>  <span style=\"color: #008080; text-decoration-color: #008080; font-weight: bold\">0.37035188</span> <span style=\"color: #008080; text-decoration-color: #008080; font-weight: bold\">0.72855943</span>\n",
       "   <span style=\"color: #008080; text-decoration-color: #008080; font-weight: bold\">0.88130456</span> <span style=\"color: #008080; text-decoration-color: #008080; font-weight: bold\">0.8519551</span>  <span style=\"color: #008080; text-decoration-color: #008080; font-weight: bold\">0.9605352</span>  <span style=\"color: #008080; text-decoration-color: #008080; font-weight: bold\">0.50641245</span> <span style=\"color: #008080; text-decoration-color: #008080; font-weight: bold\">0.8341554</span>  <span style=\"color: #008080; text-decoration-color: #008080; font-weight: bold\">0.9424831</span>\n",
       "   <span style=\"color: #008080; text-decoration-color: #008080; font-weight: bold\">0.35195088</span> <span style=\"color: #008080; text-decoration-color: #008080; font-weight: bold\">0.64017296</span> <span style=\"color: #008080; text-decoration-color: #008080; font-weight: bold\">0.2570884</span>  <span style=\"color: #008080; text-decoration-color: #008080; font-weight: bold\">0.99978507</span> <span style=\"color: #008080; text-decoration-color: #008080; font-weight: bold\">0.12891899</span> <span style=\"color: #008080; text-decoration-color: #008080; font-weight: bold\">0.8730271</span>\n",
       "   <span style=\"color: #008080; text-decoration-color: #008080; font-weight: bold\">0.8458719</span>  <span style=\"color: #008080; text-decoration-color: #008080; font-weight: bold\">0.81154907</span> <span style=\"color: #008080; text-decoration-color: #008080; font-weight: bold\">0.18547893</span> <span style=\"color: #008080; text-decoration-color: #008080; font-weight: bold\">0.58616465</span> <span style=\"color: #008080; text-decoration-color: #008080; font-weight: bold\">0.14195919</span> <span style=\"color: #008080; text-decoration-color: #008080; font-weight: bold\">0.8828586</span>\n",
       "   <span style=\"color: #008080; text-decoration-color: #008080; font-weight: bold\">0.3138246</span>  <span style=\"color: #008080; text-decoration-color: #008080; font-weight: bold\">0.78482175</span> <span style=\"color: #008080; text-decoration-color: #008080; font-weight: bold\">0.03386695</span> <span style=\"color: #008080; text-decoration-color: #008080; font-weight: bold\">0.3036387</span>  <span style=\"color: #008080; text-decoration-color: #008080; font-weight: bold\">0.7117337</span>  <span style=\"color: #008080; text-decoration-color: #008080; font-weight: bold\">0.03048352</span>\n",
       "   <span style=\"color: #008080; text-decoration-color: #008080; font-weight: bold\">0.61339873</span> <span style=\"color: #008080; text-decoration-color: #008080; font-weight: bold\">0.6181703</span>  <span style=\"color: #008080; text-decoration-color: #008080; font-weight: bold\">0.2888818</span>  <span style=\"color: #008080; text-decoration-color: #008080; font-weight: bold\">0.5959538</span>  <span style=\"color: #008080; text-decoration-color: #008080; font-weight: bold\">0.09700552</span> <span style=\"color: #008080; text-decoration-color: #008080; font-weight: bold\">0.44509062</span>\n",
       "   <span style=\"color: #008080; text-decoration-color: #008080; font-weight: bold\">0.20325193</span> <span style=\"color: #008080; text-decoration-color: #008080; font-weight: bold\">0.40275708</span> <span style=\"color: #008080; text-decoration-color: #008080; font-weight: bold\">0.98671865</span> <span style=\"color: #008080; text-decoration-color: #008080; font-weight: bold\">0.98274964</span> <span style=\"color: #008080; text-decoration-color: #008080; font-weight: bold\">0.5994578</span>  <span style=\"color: #008080; text-decoration-color: #008080; font-weight: bold\">0.19564176</span>\n",
       "   <span style=\"color: #008080; text-decoration-color: #008080; font-weight: bold\">0.7526891</span>  <span style=\"color: #008080; text-decoration-color: #008080; font-weight: bold\">0.17145684</span> <span style=\"color: #008080; text-decoration-color: #008080; font-weight: bold\">0.1092082</span>  <span style=\"color: #008080; text-decoration-color: #008080; font-weight: bold\">0.38063717</span> <span style=\"color: #008080; text-decoration-color: #008080; font-weight: bold\">0.5230986</span>  <span style=\"color: #008080; text-decoration-color: #008080; font-weight: bold\">0.04728267</span>\n",
       "   <span style=\"color: #008080; text-decoration-color: #008080; font-weight: bold\">0.02482958</span> <span style=\"color: #008080; text-decoration-color: #008080; font-weight: bold\">0.98073435</span> <span style=\"color: #008080; text-decoration-color: #008080; font-weight: bold\">0.2668768</span>  <span style=\"color: #008080; text-decoration-color: #008080; font-weight: bold\">0.29970753</span> <span style=\"color: #008080; text-decoration-color: #008080; font-weight: bold\">0.3141742</span>  <span style=\"color: #008080; text-decoration-color: #008080; font-weight: bold\">0.12307824</span>\n",
       "   <span style=\"color: #008080; text-decoration-color: #008080; font-weight: bold\">0.550661</span>   <span style=\"color: #008080; text-decoration-color: #008080; font-weight: bold\">0.92636734</span> <span style=\"color: #008080; text-decoration-color: #008080; font-weight: bold\">0.7844738</span>  <span style=\"color: #008080; text-decoration-color: #008080; font-weight: bold\">0.526485</span>   <span style=\"color: #008080; text-decoration-color: #008080; font-weight: bold\">0.5489372</span>  <span style=\"color: #008080; text-decoration-color: #008080; font-weight: bold\">0.6372041</span>\n",
       "   <span style=\"color: #008080; text-decoration-color: #008080; font-weight: bold\">0.18109478</span> <span style=\"color: #008080; text-decoration-color: #008080; font-weight: bold\">0.8840728</span>  <span style=\"color: #008080; text-decoration-color: #008080; font-weight: bold\">0.64522266</span> <span style=\"color: #008080; text-decoration-color: #008080; font-weight: bold\">0.5828668</span>  <span style=\"color: #008080; text-decoration-color: #008080; font-weight: bold\">0.6410241</span>  <span style=\"color: #008080; text-decoration-color: #008080; font-weight: bold\">0.4837567</span>\n",
       "   <span style=\"color: #008080; text-decoration-color: #008080; font-weight: bold\">0.08469291</span> <span style=\"color: #008080; text-decoration-color: #008080; font-weight: bold\">0.11422633</span> <span style=\"color: #008080; text-decoration-color: #008080; font-weight: bold\">0.6497292</span>  <span style=\"color: #008080; text-decoration-color: #008080; font-weight: bold\">0.43048826</span> <span style=\"color: #008080; text-decoration-color: #008080; font-weight: bold\">0.6362229</span>  <span style=\"color: #008080; text-decoration-color: #008080; font-weight: bold\">0.40330258</span>\n",
       "   <span style=\"color: #008080; text-decoration-color: #008080; font-weight: bold\">0.2624606</span>  <span style=\"color: #008080; text-decoration-color: #008080; font-weight: bold\">0.72204214</span> <span style=\"color: #008080; text-decoration-color: #008080; font-weight: bold\">0.9611474</span>  <span style=\"color: #008080; text-decoration-color: #008080; font-weight: bold\">0.04919995</span> <span style=\"color: #008080; text-decoration-color: #008080; font-weight: bold\">0.5424724</span>  <span style=\"color: #008080; text-decoration-color: #008080; font-weight: bold\">0.15422608</span>\n",
       "   <span style=\"color: #008080; text-decoration-color: #008080; font-weight: bold\">0.03129711</span> <span style=\"color: #008080; text-decoration-color: #008080; font-weight: bold\">0.10222854</span> <span style=\"color: #008080; text-decoration-color: #008080; font-weight: bold\">0.04689892</span> <span style=\"color: #008080; text-decoration-color: #008080; font-weight: bold\">0.35552424</span> <span style=\"color: #008080; text-decoration-color: #008080; font-weight: bold\">0.9435134</span>  <span style=\"color: #008080; text-decoration-color: #008080; font-weight: bold\">0.12218878</span>\n",
       "   <span style=\"color: #008080; text-decoration-color: #008080; font-weight: bold\">0.30117017</span> <span style=\"color: #008080; text-decoration-color: #008080; font-weight: bold\">0.10997052</span> <span style=\"color: #008080; text-decoration-color: #008080; font-weight: bold\">0.23401923</span> <span style=\"color: #008080; text-decoration-color: #008080; font-weight: bold\">0.03709656</span> <span style=\"color: #008080; text-decoration-color: #008080; font-weight: bold\">0.38395905</span> <span style=\"color: #008080; text-decoration-color: #008080; font-weight: bold\">0.9898242</span>\n",
       "   <span style=\"color: #008080; text-decoration-color: #008080; font-weight: bold\">0.7141942</span>  <span style=\"color: #008080; text-decoration-color: #008080; font-weight: bold\">0.4955998</span>  <span style=\"color: #008080; text-decoration-color: #008080; font-weight: bold\">0.78369415</span> <span style=\"color: #008080; text-decoration-color: #008080; font-weight: bold\">0.22568876</span> <span style=\"color: #008080; text-decoration-color: #008080; font-weight: bold\">0.7187468</span>  <span style=\"color: #008080; text-decoration-color: #008080; font-weight: bold\">0.6965207</span>\n",
       "   <span style=\"color: #008080; text-decoration-color: #008080; font-weight: bold\">0.47010502</span> <span style=\"color: #008080; text-decoration-color: #008080; font-weight: bold\">0.50163895</span> <span style=\"color: #008080; text-decoration-color: #008080; font-weight: bold\">0.3338056</span> <span style=\"font-weight: bold\">]]]</span>\n",
       "</pre>\n"
      ],
      "text/plain": [
       "\u001b[1m[\u001b[0m\u001b[1m[\u001b[0m\u001b[1m[\u001b[0m\u001b[1;36m0.52143\u001b[0m    \u001b[1;36m0.6754695\u001b[0m  \u001b[1;36m0.41964117\u001b[0m \u001b[1;36m0.9578651\u001b[0m  \u001b[1;36m0.37035188\u001b[0m \u001b[1;36m0.72855943\u001b[0m\n",
       "   \u001b[1;36m0.88130456\u001b[0m \u001b[1;36m0.8519551\u001b[0m  \u001b[1;36m0.9605352\u001b[0m  \u001b[1;36m0.50641245\u001b[0m \u001b[1;36m0.8341554\u001b[0m  \u001b[1;36m0.9424831\u001b[0m\n",
       "   \u001b[1;36m0.35195088\u001b[0m \u001b[1;36m0.64017296\u001b[0m \u001b[1;36m0.2570884\u001b[0m  \u001b[1;36m0.99978507\u001b[0m \u001b[1;36m0.12891899\u001b[0m \u001b[1;36m0.8730271\u001b[0m\n",
       "   \u001b[1;36m0.8458719\u001b[0m  \u001b[1;36m0.81154907\u001b[0m \u001b[1;36m0.18547893\u001b[0m \u001b[1;36m0.58616465\u001b[0m \u001b[1;36m0.14195919\u001b[0m \u001b[1;36m0.8828586\u001b[0m\n",
       "   \u001b[1;36m0.3138246\u001b[0m  \u001b[1;36m0.78482175\u001b[0m \u001b[1;36m0.03386695\u001b[0m \u001b[1;36m0.3036387\u001b[0m  \u001b[1;36m0.7117337\u001b[0m  \u001b[1;36m0.03048352\u001b[0m\n",
       "   \u001b[1;36m0.61339873\u001b[0m \u001b[1;36m0.6181703\u001b[0m  \u001b[1;36m0.2888818\u001b[0m  \u001b[1;36m0.5959538\u001b[0m  \u001b[1;36m0.09700552\u001b[0m \u001b[1;36m0.44509062\u001b[0m\n",
       "   \u001b[1;36m0.20325193\u001b[0m \u001b[1;36m0.40275708\u001b[0m \u001b[1;36m0.98671865\u001b[0m \u001b[1;36m0.98274964\u001b[0m \u001b[1;36m0.5994578\u001b[0m  \u001b[1;36m0.19564176\u001b[0m\n",
       "   \u001b[1;36m0.7526891\u001b[0m  \u001b[1;36m0.17145684\u001b[0m \u001b[1;36m0.1092082\u001b[0m  \u001b[1;36m0.38063717\u001b[0m \u001b[1;36m0.5230986\u001b[0m  \u001b[1;36m0.04728267\u001b[0m\n",
       "   \u001b[1;36m0.02482958\u001b[0m \u001b[1;36m0.98073435\u001b[0m \u001b[1;36m0.2668768\u001b[0m  \u001b[1;36m0.29970753\u001b[0m \u001b[1;36m0.3141742\u001b[0m  \u001b[1;36m0.12307824\u001b[0m\n",
       "   \u001b[1;36m0.550661\u001b[0m   \u001b[1;36m0.92636734\u001b[0m \u001b[1;36m0.7844738\u001b[0m  \u001b[1;36m0.526485\u001b[0m   \u001b[1;36m0.5489372\u001b[0m  \u001b[1;36m0.6372041\u001b[0m\n",
       "   \u001b[1;36m0.18109478\u001b[0m \u001b[1;36m0.8840728\u001b[0m  \u001b[1;36m0.64522266\u001b[0m \u001b[1;36m0.5828668\u001b[0m  \u001b[1;36m0.6410241\u001b[0m  \u001b[1;36m0.4837567\u001b[0m\n",
       "   \u001b[1;36m0.08469291\u001b[0m \u001b[1;36m0.11422633\u001b[0m \u001b[1;36m0.6497292\u001b[0m  \u001b[1;36m0.43048826\u001b[0m \u001b[1;36m0.6362229\u001b[0m  \u001b[1;36m0.40330258\u001b[0m\n",
       "   \u001b[1;36m0.2624606\u001b[0m  \u001b[1;36m0.72204214\u001b[0m \u001b[1;36m0.9611474\u001b[0m  \u001b[1;36m0.04919995\u001b[0m \u001b[1;36m0.5424724\u001b[0m  \u001b[1;36m0.15422608\u001b[0m\n",
       "   \u001b[1;36m0.03129711\u001b[0m \u001b[1;36m0.10222854\u001b[0m \u001b[1;36m0.04689892\u001b[0m \u001b[1;36m0.35552424\u001b[0m \u001b[1;36m0.9435134\u001b[0m  \u001b[1;36m0.12218878\u001b[0m\n",
       "   \u001b[1;36m0.30117017\u001b[0m \u001b[1;36m0.10997052\u001b[0m \u001b[1;36m0.23401923\u001b[0m \u001b[1;36m0.03709656\u001b[0m \u001b[1;36m0.38395905\u001b[0m \u001b[1;36m0.9898242\u001b[0m\n",
       "   \u001b[1;36m0.7141942\u001b[0m  \u001b[1;36m0.4955998\u001b[0m  \u001b[1;36m0.78369415\u001b[0m \u001b[1;36m0.22568876\u001b[0m \u001b[1;36m0.7187468\u001b[0m  \u001b[1;36m0.6965207\u001b[0m\n",
       "   \u001b[1;36m0.47010502\u001b[0m \u001b[1;36m0.50163895\u001b[0m \u001b[1;36m0.3338056\u001b[0m \u001b[1m]\u001b[0m\u001b[1m]\u001b[0m\u001b[1m]\u001b[0m\n"
      ]
     },
     "metadata": {},
     "output_type": "display_data"
    }
   ],
   "source": [
    "inputs=\"reference_line_valid_mask\"\n",
    "  \n",
    "# path=Path(\"D:/Learn DL/Emil-Net/src/isolated_emil_net.onnx\")\n",
    "\n",
    "path=Path(\"D:/Learn DL/Emil-Net/src/ak-isolated.onnx\")\n",
    "\n",
    "input_value = np.random.rand(1,1,99).astype(np.float32)\n",
    "\n",
    "\n",
    "print(input_value)\n",
    "\n",
    "\n",
    "iso_onnx_model = onnx.load(path)\n",
    "\n",
    "\n",
    "onnx.checker.check_model(iso_onnx_model)"
   ]
  },
  {
   "cell_type": "code",
   "execution_count": 50,
   "metadata": {},
   "outputs": [
    {
     "data": {
      "text/html": [
       "<pre style=\"white-space:pre;overflow-x:auto;line-height:normal;font-family:Menlo,'DejaVu Sans Mono',consolas,'Courier New',monospace\">Output: <span style=\"font-weight: bold\">[</span><span style=\"color: #800080; text-decoration-color: #800080; font-weight: bold\">array</span><span style=\"font-weight: bold\">([[</span><span style=\"color: #008080; text-decoration-color: #008080; font-weight: bold\">0</span>.<span style=\"font-weight: bold\">]</span>,\n",
       "       <span style=\"font-weight: bold\">[</span><span style=\"color: #008080; text-decoration-color: #008080; font-weight: bold\">0</span>.<span style=\"font-weight: bold\">]</span>,\n",
       "       <span style=\"font-weight: bold\">[</span><span style=\"color: #008080; text-decoration-color: #008080; font-weight: bold\">0</span>.<span style=\"font-weight: bold\">]</span>,\n",
       "       <span style=\"font-weight: bold\">[</span><span style=\"color: #008080; text-decoration-color: #008080; font-weight: bold\">0</span>.<span style=\"font-weight: bold\">]</span>,\n",
       "       <span style=\"font-weight: bold\">[</span><span style=\"color: #008080; text-decoration-color: #008080; font-weight: bold\">0</span>.<span style=\"font-weight: bold\">]</span>,\n",
       "       <span style=\"font-weight: bold\">[</span><span style=\"color: #008080; text-decoration-color: #008080; font-weight: bold\">0</span>.<span style=\"font-weight: bold\">]]</span>, <span style=\"color: #808000; text-decoration-color: #808000\">dtype</span>=<span style=\"color: #800080; text-decoration-color: #800080\">float32</span><span style=\"font-weight: bold\">)]</span>\n",
       "\n",
       "</pre>\n"
      ],
      "text/plain": [
       "Output: \u001b[1m[\u001b[0m\u001b[1;35marray\u001b[0m\u001b[1m(\u001b[0m\u001b[1m[\u001b[0m\u001b[1m[\u001b[0m\u001b[1;36m0\u001b[0m.\u001b[1m]\u001b[0m,\n",
       "       \u001b[1m[\u001b[0m\u001b[1;36m0\u001b[0m.\u001b[1m]\u001b[0m,\n",
       "       \u001b[1m[\u001b[0m\u001b[1;36m0\u001b[0m.\u001b[1m]\u001b[0m,\n",
       "       \u001b[1m[\u001b[0m\u001b[1;36m0\u001b[0m.\u001b[1m]\u001b[0m,\n",
       "       \u001b[1m[\u001b[0m\u001b[1;36m0\u001b[0m.\u001b[1m]\u001b[0m,\n",
       "       \u001b[1m[\u001b[0m\u001b[1;36m0\u001b[0m.\u001b[1m]\u001b[0m\u001b[1m]\u001b[0m, \u001b[33mdtype\u001b[0m=\u001b[35mfloat32\u001b[0m\u001b[1m)\u001b[0m\u001b[1m]\u001b[0m\n",
       "\n"
      ]
     },
     "metadata": {},
     "output_type": "display_data"
    }
   ],
   "source": [
    "\n",
    "session = ort.InferenceSession(iso_onnx_model.SerializeToString())\n",
    "\n",
    "output1=session.run(None,{inputs:input_value})\n",
    "\n",
    "print(f\"Output: {output1}\\n\")"
   ]
  },
  {
   "cell_type": "code",
   "execution_count": 51,
   "metadata": {},
   "outputs": [],
   "source": [
    "graph=gs.import_onnx(iso_onnx_model)"
   ]
  },
  {
   "cell_type": "code",
   "execution_count": 60,
   "metadata": {},
   "outputs": [
    {
     "data": {
      "text/html": [
       "<pre style=\"white-space:pre;overflow-x:auto;line-height:normal;font-family:Menlo,'DejaVu Sans Mono',consolas,'Courier New',monospace\">Replacing Where node: <span style=\"color: #800080; text-decoration-color: #800080\">/planning_decoder/decoder_blocks.0/r2r_attn/</span><span style=\"color: #ff00ff; text-decoration-color: #ff00ff\">Where</span>\n",
       "</pre>\n"
      ],
      "text/plain": [
       "Replacing Where node: \u001b[35m/planning_decoder/decoder_blocks.0/r2r_attn/\u001b[0m\u001b[95mWhere\u001b[0m\n"
      ]
     },
     "metadata": {},
     "output_type": "display_data"
    },
    {
     "data": {
      "text/html": [
       "<pre style=\"white-space:pre;overflow-x:auto;line-height:normal;font-family:Menlo,'DejaVu Sans Mono',consolas,'Courier New',monospace\">condition Variable <span style=\"font-weight: bold\">(</span><span style=\"color: #800080; text-decoration-color: #800080\">/planning_decoder/decoder_blocks.0/</span><span style=\"color: #ff00ff; text-decoration-color: #ff00ff\">Cast_1_output_0</span><span style=\"font-weight: bold\">)</span>: <span style=\"font-weight: bold\">(</span><span style=\"color: #808000; text-decoration-color: #808000\">shape</span>=<span style=\"font-weight: bold\">[</span><span style=\"color: #008080; text-decoration-color: #008080; font-weight: bold\">6</span>, <span style=\"color: #008080; text-decoration-color: #008080; font-weight: bold\">1</span><span style=\"font-weight: bold\">]</span>, <span style=\"color: #808000; text-decoration-color: #808000\">dtype</span>=<span style=\"color: #800080; text-decoration-color: #800080\">bool</span><span style=\"font-weight: bold\">)</span>\n",
       "</pre>\n"
      ],
      "text/plain": [
       "condition Variable \u001b[1m(\u001b[0m\u001b[35m/planning_decoder/decoder_blocks.0/\u001b[0m\u001b[95mCast_1_output_0\u001b[0m\u001b[1m)\u001b[0m: \u001b[1m(\u001b[0m\u001b[33mshape\u001b[0m=\u001b[1m[\u001b[0m\u001b[1;36m6\u001b[0m, \u001b[1;36m1\u001b[0m\u001b[1m]\u001b[0m, \u001b[33mdtype\u001b[0m=\u001b[35mbool\u001b[0m\u001b[1m)\u001b[0m\n"
      ]
     },
     "metadata": {},
     "output_type": "display_data"
    },
    {
     "data": {
      "text/html": [
       "<pre style=\"white-space:pre;overflow-x:auto;line-height:normal;font-family:Menlo,'DejaVu Sans Mono',consolas,'Courier New',monospace\">X Constant <span style=\"font-weight: bold\">(</span><span style=\"color: #800080; text-decoration-color: #800080\">/encoder_blocks.0/attn/</span><span style=\"color: #ff00ff; text-decoration-color: #ff00ff\">Constant_output_0</span><span style=\"font-weight: bold\">)</span>: <span style=\"font-weight: bold\">(</span><span style=\"color: #808000; text-decoration-color: #808000\">shape</span>=<span style=\"font-weight: bold\">[]</span>, <span style=\"color: #808000; text-decoration-color: #808000\">dtype</span>=<span style=\"color: #800080; text-decoration-color: #800080\">float32</span><span style=\"font-weight: bold\">)</span>\n",
       "</pre>\n"
      ],
      "text/plain": [
       "X Constant \u001b[1m(\u001b[0m\u001b[35m/encoder_blocks.0/attn/\u001b[0m\u001b[95mConstant_output_0\u001b[0m\u001b[1m)\u001b[0m: \u001b[1m(\u001b[0m\u001b[33mshape\u001b[0m=\u001b[1m[\u001b[0m\u001b[1m]\u001b[0m, \u001b[33mdtype\u001b[0m=\u001b[35mfloat32\u001b[0m\u001b[1m)\u001b[0m\n"
      ]
     },
     "metadata": {},
     "output_type": "display_data"
    },
    {
     "data": {
      "text/html": [
       "<pre style=\"white-space:pre;overflow-x:auto;line-height:normal;font-family:Menlo,'DejaVu Sans Mono',consolas,'Courier New',monospace\">Y Constant <span style=\"font-weight: bold\">(</span><span style=\"color: #800080; text-decoration-color: #800080\">/planning_decoder/decoder_blocks.0/r2r_attn/</span><span style=\"color: #ff00ff; text-decoration-color: #ff00ff\">Constant_1_output_0</span><span style=\"font-weight: bold\">)</span>: <span style=\"font-weight: bold\">(</span><span style=\"color: #808000; text-decoration-color: #808000\">shape</span>=<span style=\"font-weight: bold\">[</span><span style=\"color: #008080; text-decoration-color: #008080; font-weight: bold\">6</span>, <span style=\"color: #008080; text-decoration-color: #008080; font-weight: bold\">1</span><span style=\"font-weight: bold\">]</span>, <span style=\"color: #808000; text-decoration-color: #808000\">dtype</span>=<span style=\"color: #800080; text-decoration-color: #800080\">float32</span><span style=\"font-weight: bold\">)</span>\n",
       "</pre>\n"
      ],
      "text/plain": [
       "Y Constant \u001b[1m(\u001b[0m\u001b[35m/planning_decoder/decoder_blocks.0/r2r_attn/\u001b[0m\u001b[95mConstant_1_output_0\u001b[0m\u001b[1m)\u001b[0m: \u001b[1m(\u001b[0m\u001b[33mshape\u001b[0m=\u001b[1m[\u001b[0m\u001b[1;36m6\u001b[0m, \u001b[1;36m1\u001b[0m\u001b[1m]\u001b[0m, \u001b[33mdtype\u001b[0m=\u001b[35mfloat32\u001b[0m\u001b[1m)\u001b[0m\n"
      ]
     },
     "metadata": {},
     "output_type": "display_data"
    },
    {
     "data": {
      "text/html": [
       "<pre style=\"white-space:pre;overflow-x:auto;line-height:normal;font-family:Menlo,'DejaVu Sans Mono',consolas,'Courier New',monospace\">Output: Variable <span style=\"font-weight: bold\">(</span><span style=\"color: #800080; text-decoration-color: #800080\">/planning_decoder/decoder_blocks.0/r2r_attn/</span><span style=\"color: #ff00ff; text-decoration-color: #ff00ff\">Where_output_0</span><span style=\"font-weight: bold\">)</span>: <span style=\"font-weight: bold\">(</span><span style=\"color: #808000; text-decoration-color: #808000\">shape</span>=<span style=\"font-weight: bold\">[</span><span style=\"color: #008080; text-decoration-color: #008080; font-weight: bold\">6</span>, <span style=\"color: #008080; text-decoration-color: #008080; font-weight: bold\">1</span><span style=\"font-weight: bold\">]</span>, <span style=\"color: #808000; text-decoration-color: #808000\">dtype</span>=<span style=\"color: #800080; text-decoration-color: #800080\">float32</span><span style=\"font-weight: bold\">)</span>\n",
       "</pre>\n"
      ],
      "text/plain": [
       "Output: Variable \u001b[1m(\u001b[0m\u001b[35m/planning_decoder/decoder_blocks.0/r2r_attn/\u001b[0m\u001b[95mWhere_output_0\u001b[0m\u001b[1m)\u001b[0m: \u001b[1m(\u001b[0m\u001b[33mshape\u001b[0m=\u001b[1m[\u001b[0m\u001b[1;36m6\u001b[0m, \u001b[1;36m1\u001b[0m\u001b[1m]\u001b[0m, \u001b[33mdtype\u001b[0m=\u001b[35mfloat32\u001b[0m\u001b[1m)\u001b[0m\n"
      ]
     },
     "metadata": {},
     "output_type": "display_data"
    }
   ],
   "source": [
    "for node in graph.nodes:\n",
    "    if node.op == \"Where\":\n",
    "        print(f\"Replacing Where node: {node.name}\")\n",
    "\n",
    "        condition,X, Y = node.inputs\n",
    "        print(f\"condition {condition}\")\n",
    "        print(f\"X {X}\")\n",
    "        print(f\"Y {Y}\")\n",
    "\n",
    "        output = node.outputs[0]\n",
    "        \n",
    "        print(f\"Output: {output}\")\n",
    "        "
   ]
  },
  {
   "cell_type": "code",
   "execution_count": 61,
   "metadata": {},
   "outputs": [],
   "source": [
    "\n",
    "\n",
    "# 1. Convert condition to float for element-wise operations\n",
    "condition_float = gs.Node(\"Cast\", \"cast_cond\", inputs=[condition], outputs=[gs.Variable(\"cond_float\")], attrs={\"to\": onnx.TensorProto.FLOAT})\n"
   ]
  },
  {
   "cell_type": "code",
   "execution_count": null,
   "metadata": {},
   "outputs": [],
   "source": [
    "graph.nodes"
   ]
  },
  {
   "cell_type": "code",
   "execution_count": null,
   "metadata": {},
   "outputs": [],
   "source": [
    "# 2. Compute condition * X\n",
    "mul_x = gs.Node(\"Mul\", \"mul_x\", inputs=[condition_float.outputs[0], X], outputs=[gs.Variable(\"cond_x\")])\n",
    "\n",
    "# 3. Compute (1 - condition) * Y\n",
    "one_const = gs.Constant(\"one\", np.array(1, dtype=np.float32))\n",
    "inv_cond = gs.Node(\"Sub\", \"inv_cond\", inputs=[one_const, condition_float.outputs[0]], outputs=[gs.Variable(\"inv_cond\")])\n",
    "mul_y = gs.Node(\"Mul\", \"mul_y\", inputs=[inv_cond.outputs[0], Y], outputs=[gs.Variable(\"inv_cond_y\")])\n",
    "\n",
    "# 4. Compute output = (condition * X) + ((1 - condition) * Y)\n",
    "add_node = gs.Node(\"Add\", \"add_result\", inputs=[mul_x.outputs[0], mul_y.outputs[0]], outputs=[output])\n",
    "\n",
    "# Replace with new nodes\n",
    "new_nodes.extend([condition_float, mul_x, inv_cond, mul_y, add_node])\n",
    "else:\n",
    "new_nodes.append(node)\n",
    "\n",
    "# Update the graph with modified nodes\n",
    "graph.nodes = new_nodes\n",
    "\n",
    "\n",
    "# Save modified model\n",
    "onnx.save(gs.export_onnx(graph), output_path)\n",
    "print(f\"Where node replaced and model saved as {output_path}\")\n",
    "\n"
   ]
  }
 ],
 "metadata": {
  "kernelspec": {
   "display_name": "mlenv",
   "language": "python",
   "name": "python3"
  },
  "language_info": {
   "codemirror_mode": {
    "name": "ipython",
    "version": 3
   },
   "file_extension": ".py",
   "mimetype": "text/x-python",
   "name": "python",
   "nbconvert_exporter": "python",
   "pygments_lexer": "ipython3",
   "version": "3.13.1"
  }
 },
 "nbformat": 4,
 "nbformat_minor": 2
}
